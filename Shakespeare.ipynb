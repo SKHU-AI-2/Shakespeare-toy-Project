{
  "nbformat": 4,
  "nbformat_minor": 0,
  "metadata": {
    "colab": {
      "provenance": [],
      "gpuType": "T4"
    },
    "kernelspec": {
      "name": "python3",
      "display_name": "Python 3"
    },
    "language_info": {
      "name": "python"
    },
    "accelerator": "GPU"
  },
  "cells": [
    {
      "cell_type": "code",
      "source": [
        "from tensorflow.keras.models import Sequential\n",
        "from tensorflow.keras.layers import LSTM, Dense, Embedding\n",
        "from tensorflow.keras.utils import get_file\n",
        "import numpy as np\n",
        "import tensorflow as tf\n",
        "import os\n",
        "\n",
        "# 데이터 로드 및 전처리\n",
        "path = get_file('shakespeare.txt', 'https://raw.githubusercontent.com/karpathy/char-rnn/master/data/tinyshakespeare/input.txt')\n",
        "text = open(path, 'rb').read().decode(encoding='utf-8')\n",
        "\n",
        "# 고유 문자 집합 생성\n",
        "chars = sorted(set(text))\n",
        "char_to_index = dict((c, i) for i, c in enumerate(chars))\n",
        "index_to_char = dict((i, c) for i, c in enumerate(chars))\n",
        "\n",
        "# 텍스트를 숫자로 변환\n",
        "max_length = 40\n",
        "step = 3\n",
        "sentences = []\n",
        "next_chars = []\n",
        "for i in range(0, len(text) - max_length, step):\n",
        "    sentences.append(text[i: i + max_length])\n",
        "    next_chars.append(text[i + max_length])\n",
        "x = np.zeros((len(sentences), max_length, len(chars)), dtype=np.bool_)\n",
        "y = np.zeros((len(sentences), len(chars)), dtype=np.bool_)\n",
        "for i, sentence in enumerate(sentences):\n",
        "    for t, char in enumerate(sentence):\n",
        "        x[i, t, char_to_index[char]] = 1\n",
        "    y[i, char_to_index[next_chars[i]]] = 1\n",
        "\n",
        "# 모델 구축\n",
        "model = Sequential()\n",
        "model.add(LSTM(128, input_shape=(max_length, len(chars))))\n",
        "model.add(Dense(len(chars), activation='softmax'))\n",
        "\n",
        "model.compile(loss='categorical_crossentropy', optimizer='adam')\n",
        "\n",
        "# 모델 학습\n",
        "model.fit(x, y, batch_size=128, epochs=10)\n",
        "\n",
        "# 텍스트 생성 함수\n",
        "def generate_text(model, length, diversity):\n",
        "    start_index = np.random.randint(0, len(text) - max_length - 1)\n",
        "    generated = ''\n",
        "    sentence = text[start_index: start_index + max_length]\n",
        "    generated += sentence\n",
        "    for i in range(length):\n",
        "        x_pred = np.zeros((1, max_length, len(chars)), dtype=np.bool_)\n",
        "        for t, char in enumerate(sentence):\n",
        "            x_pred[0, t, char_to_index[char]] = 1.\n",
        "        preds = model.predict(x_pred, verbose=0)[0]\n",
        "        next_index = np.random.choice(len(chars), p=preds)\n",
        "        next_char = index_to_char[next_index]\n",
        "        generated += next_char\n",
        "        sentence = sentence[1:] + next_char\n",
        "    return generated\n",
        "\n",
        "\n",
        "# 생성된 텍스트 출력\n",
        "print(generate_text(model, length=400, diversity=1.0))"
      ],
      "metadata": {
        "colab": {
          "base_uri": "https://localhost:8080/"
        },
        "id": "tEpmG1VxwRYe",
        "outputId": "855bb63c-7069-4996-ce89-0d7bdf92be36"
      },
      "execution_count": 1,
      "outputs": [
        {
          "output_type": "stream",
          "name": "stdout",
          "text": [
            "Epoch 1/10\n",
            "2905/2905 [==============================] - 17s 5ms/step - loss: 2.3963\n",
            "Epoch 2/10\n",
            "2905/2905 [==============================] - 14s 5ms/step - loss: 1.9927\n",
            "Epoch 3/10\n",
            "2905/2905 [==============================] - 14s 5ms/step - loss: 1.8441\n",
            "Epoch 4/10\n",
            "2905/2905 [==============================] - 14s 5ms/step - loss: 1.7538\n",
            "Epoch 5/10\n",
            "2905/2905 [==============================] - 15s 5ms/step - loss: 1.6910\n",
            "Epoch 6/10\n",
            "2905/2905 [==============================] - 14s 5ms/step - loss: 1.6450\n",
            "Epoch 7/10\n",
            "2905/2905 [==============================] - 14s 5ms/step - loss: 1.6087\n",
            "Epoch 8/10\n",
            "2905/2905 [==============================] - 14s 5ms/step - loss: 1.5786\n",
            "Epoch 9/10\n",
            "2905/2905 [==============================] - 14s 5ms/step - loss: 1.5532\n",
            "Epoch 10/10\n",
            "2905/2905 [==============================] - 15s 5ms/step - loss: 1.5317\n",
            " him be prepared;\n",
            "For that's the utmost to de a careling,\n",
            "To wistcail'd mind orf, I hine love tell mormenck,\n",
            "And sand the liftors 'tming diething your higr fraily:\n",
            "Fair mertite, the sweet of that canse woush\n",
            "Dies, there of these dearsarefole, as the fail king:\n",
            "If thy partys that thou to at thing like,\n",
            "But Malsue alove it the peacuse!\n",
            "\n",
            "JULIET:\n",
            "Ab ever the pressent, aboubles, thy quaile,\n",
            "Is thex to make the isfuty against you,\n",
            "foot tithor\n"
          ]
        }
      ]
    },
    {
      "cell_type": "code",
      "source": [
        "# 모델 저장\n",
        "model.save('shakespeare_text_gen_model.h5')"
      ],
      "metadata": {
        "colab": {
          "base_uri": "https://localhost:8080/"
        },
        "id": "t2iqabPTmGK9",
        "outputId": "6d344b49-c582-4d65-db1a-4e5ca671ff51"
      },
      "execution_count": 2,
      "outputs": [
        {
          "output_type": "stream",
          "name": "stderr",
          "text": [
            "/usr/local/lib/python3.10/dist-packages/keras/src/engine/training.py:3103: UserWarning: You are saving your model as an HDF5 file via `model.save()`. This file format is considered legacy. We recommend using instead the native Keras format, e.g. `model.save('my_model.keras')`.\n",
            "  saving_api.save_model(\n"
          ]
        }
      ]
    },
    {
      "cell_type": "code",
      "source": [],
      "metadata": {
        "id": "jIhuPMCsBInx"
      },
      "execution_count": 2,
      "outputs": []
    }
  ]
}